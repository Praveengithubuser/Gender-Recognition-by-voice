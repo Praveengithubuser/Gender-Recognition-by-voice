{
  "nbformat": 4,
  "nbformat_minor": 0,
  "metadata": {
    "colab": {
      "provenance": []
    },
    "kernelspec": {
      "name": "python3",
      "display_name": "Python 3"
    },
    "language_info": {
      "name": "python"
    }
  },
  "cells": [
    {
      "cell_type": "markdown",
      "source": [
        "# **1. Finding the gradient of the given loss function**\n",
        "\n",
        "Given,\n",
        "\n",
        "$$\n",
        "L(\\theta) = - \\frac{1}{n} \\sum_{i=1}^{n} \\left[ y_i \\log(\\widehat{y}_i) + (1 - y_i) \\log(1 - \\widehat{y}_i) \\right]\n",
        " $$\n",
        "\n",
        "Where,\n",
        "\n",
        "$$\n",
        "\\widehat{y}_i = \\sigma(x_i \\cdot \\theta) = \\frac{1}{1 + e^{-x_i \\cdot \\theta}}\n",
        "$$\n",
        "\n",
        "Putting this into $ L(\\theta) $ and simplifying, we get,\n",
        "\n",
        "$$\n",
        "L(\\theta) = \\frac{1}{n} \\sum_{i=1}^{n} \\left[(1-y_i)(x_i \\cdot \\theta) + \\log(1+e^{-x_i \\cdot \\theta}) \\right]\n",
        "$$\n",
        "\n",
        "$$\n",
        "\\Rightarrow \\frac{\\partial L(\\theta)}{\\partial \\theta} = \\frac{1}{n} \\sum_{i=1}^{n} \\left[(1-y_i)\\frac{\\partial (x_i \\cdot \\theta)}{\\partial \\theta} + \\frac{\\partial \\log(1+e^{-x_i \\cdot \\theta})}{\\partial \\theta} \\right]\n",
        "$$\n",
        "\n",
        "But, $$ \\frac{\\partial L(\\theta)}{\\partial \\theta} = x_i ,  \\frac{\\partial \\log(1+e^{-x_i \\cdot \\theta})}{\\partial \\theta} = \\frac{-x_i}{1+e^{x_i \\theta}}$$\n",
        "\n",
        "Plugging this and resubstituting for $\\widehat{y}_i$, we get the gradient of the logistic regression loss function is:\n",
        "\n",
        "$$\n",
        "\\boxed{\\nabla_\\theta L(\\theta) = \\frac{1}{n} \\sum_{i=1}^{n} (\\widehat{y}_i - y_i) x_i}\n",
        "$$\n",
        "\n"
      ],
      "metadata": {
        "id": "wLBZqWYhHsXf"
      }
    },
    {
      "cell_type": "markdown",
      "source": [
        "# **2. Plotting the logistic function $\\sigma(z)$:**"
      ],
      "metadata": {
        "id": "B_fBwxR5N1Uu"
      }
    },
    {
      "cell_type": "code",
      "source": [
        "# Importing all the necessary libraries for upcoming codes\n",
        "import numpy as np\n",
        "import pandas as pd\n",
        "import matplotlib.pyplot as plt\n",
        "from sklearn.model_selection import train_test_split\n",
        "from sklearn.preprocessing import StandardScaler\n",
        "\n",
        "# Logistic function\n",
        "def sigmoid(z):\n",
        "    return 1 / (1 + np.exp(-z))\n",
        "\n",
        "z = np.linspace(-10, 10, 100)\n",
        "sigma_z = sigmoid(z)\n",
        "\n",
        "# Plotting\n",
        "plt.figure(figsize=(9, 5))\n",
        "plt.plot(z, sigma_z, color='blue', label=r'$\\sigma(z) = \\frac{1}{1 + e^{-z}}$')\n",
        "plt.axhline(0, color='black')\n",
        "plt.axvline(0, color='black')\n",
        "plt.title('Logistic Function')\n",
        "plt.xlabel('z')\n",
        "plt.ylabel(r'$\\sigma(z)$')\n",
        "plt.ylim(-0.1, 1.1)\n",
        "plt.xlim(-10, 10)\n",
        "plt.legend()\n",
        "plt.grid()\n",
        "plt.show()\n"
      ],
      "metadata": {
        "colab": {
          "base_uri": "https://localhost:8080/",
          "height": 487
        },
        "id": "gIsBJMheOlmQ",
        "outputId": "128b4204-5041-4415-96c2-dfa11267c5b1"
      },
      "execution_count": null,
      "outputs": [
        {
          "output_type": "display_data",
          "data": {
            "text/plain": [
              "<Figure size 900x500 with 1 Axes>"
            ],
            "image/png": "[encoded data removed]"
          },
          "metadata": {}
        }
      ]
    },
    {
      "cell_type": "markdown",
      "source": [
        "**COMMENTS ON THE GRAPH OF $\\sigma(z):$** The range is (0, 1), hence a good scaling function and valid for probability. The graph saturates to 1 for higher values of input and saturates at zero at values close to negative infinity. This suggests that Inputs that closely align with $\\theta$ has higher probability of getting y(the output) equal to 1."
      ],
      "metadata": {
        "id": "etXocLD3Pqfp"
      }
    },
    {
      "cell_type": "markdown",
      "source": [
        "#**3. program for logistic regression:**"
      ],
      "metadata": {
        "id": "ACKqpgwqRBw0"
      }
    },
    {
      "cell_type": "code",
      "source": [
        "# Function for logistic regression\n",
        "def logistic_regression(theta, x):\n",
        "    return sigmoid(np.dot(x, theta))\n",
        "\n",
        "# Predicting the label\n",
        "def predict(theta, x):\n",
        "    prob = logistic_regression(theta, x)\n",
        "    return (prob >= 0.5).astype(int)"
      ],
      "metadata": {
        "id": "9NuymJz4RXqZ"
      },
      "execution_count": null,
      "outputs": []
    },
    {
      "cell_type": "markdown",
      "source": [
        "#**4. Gradient descent algorithm:**\n",
        "Here, I have used the data from \"Gender Recognition by Voice\" dataset by downloading voics.csv from kaggle. Since the final result is male/female voice (1 or 0) we can use logistic regression."
      ],
      "metadata": {
        "id": "DU_o7ct9XgBB"
      }
    },
    {
      "cell_type": "code",
      "source": [
        "# Uploading the file to collab.\n",
        "from google.colab import files\n",
        "uploaded = files.upload()"
      ],
      "metadata": {
        "colab": {
          "base_uri": "https://localhost:8080/",
          "height": 74
        },
        "id": "BXBSoHb8XnL3",
        "outputId": "b63863c1-0e9c-4d57-d35c-97a2aa6b93b6"
      },
      "execution_count": null,
      "outputs": [
        {
          "output_type": "display_data",
          "data": {
            "text/plain": [
              "<IPython.core.display.HTML object>"
            ],
            "text/html": [
              "\n",
              "     <input type=\"file\" id=\"files-0f3f777f-d38a-465b-a986-0578925784dd\" name=\"files[]\" multiple disabled\n",
              "        style=\"border:none\" />\n",
              "     <output id=\"result-0f3f777f-d38a-465b-a986-0578925784dd\">\n",
              "      Upload widget is only available when the cell has been executed in the\n",
              "      current browser session. Please rerun this cell to enable.\n",
              "      </output>\n",
              "      <script>// Copyright 2017 Google LLC\n",
              "//\n",
              "// Licensed under the Apache License, Version 2.0 (the \"License\");\n",
              "// you may not use this file except in compliance with the License.\n",
              "// You may obtain a copy of the License at\n",
              "//\n",
              "//      http://www.apache.org/licenses/LICENSE-2.0\n",
              "//\n",
              "// Unless required by applicable law or agreed to in writing, software\n",
              "// distributed under the License is distributed on an \"AS IS\" BASIS,\n",
              "// WITHOUT WARRANTIES OR CONDITIONS OF ANY KIND, either express or implied.\n",
              "// See the License for the specific language governing permissions and\n",
              "// limitations under the License.\n",
              "\n",
              "/**\n",
              " * @fileoverview Helpers for google.colab Python module.\n",
              " */\n",
              "(function(scope) {\n",
              "function span(text, styleAttributes = {}) {\n",
              "  const element = document.createElement('span');\n",
              "  element.textContent = text;\n",
              "  for (const key of Object.keys(styleAttributes)) {\n",
              "    element.style[key] = styleAttributes[key];\n",
              "  }\n",
              "  return element;\n",
              "}\n",
              "\n",
              "// Max number of bytes which will be uploaded at a time.\n",
              "const MAX_PAYLOAD_SIZE = 100 * 1024;\n",
              "\n",
              "function _uploadFiles(inputId, outputId) {\n",
              "  const steps = uploadFilesStep(inputId, outputId);\n",
              "  const outputElement = document.getElementById(outputId);\n",
              "  // Cache steps on the outputElement to make it available for the next call\n",
              "  // to uploadFilesContinue from Python.\n",
              "  outputElement.steps = steps;\n",
              "\n",
              "  return _uploadFilesContinue(outputId);\n",
              "}\n",
              "\n",
              "// This is roughly an async generator (not supported in the browser yet),\n",
              "// where there are multiple asynchronous steps and the Python side is going\n",
              "// to poll for completion of each step.\n",
              "// This uses a Promise to block the python side on completion of each step,\n",
              "// then passes the result of the previous step as the input to the next step.\n",
              "function _uploadFilesContinue(outputId) {\n",
              "  const outputElement = document.getElementById(outputId);\n",
              "  const steps = outputElement.steps;\n",
              "\n",
              "  const next = steps.next(outputElement.lastPromiseValue);\n",
              "  return Promise.resolve(next.value.promise).then((value) => {\n",
              "    // Cache the last promise value to make it available to the next\n",
              "    // step of the generator.\n",
              "    outputElement.lastPromiseValue = value;\n",
              "    return next.value.response;\n",
              "  });\n",
              "}\n",
              "\n",
              "/**\n",
              " * Generator function which is called between each async step of the upload\n",
              " * process.\n",
              " * @param {string} inputId Element ID of the input file picker element.\n",
              " * @param {string} outputId Element ID of the output display.\n",
              " * @return {!Iterable<!Object>} Iterable of next steps.\n",
              " */\n",
              "function* uploadFilesStep(inputId, outputId) {\n",
              "  const inputElement = document.getElementById(inputId);\n",
              "  inputElement.disabled = false;\n",
              "\n",
              "  const outputElement = document.getElementById(outputId);\n",
              "  outputElement.innerHTML = '';\n",
              "\n",
              "  const pickedPromise = new Promise((resolve) => {\n",
              "    inputElement.addEventListener('change', (e) => {\n",
              "      resolve(e.target.files);\n",
              "    });\n",
              "  });\n",
              "\n",
              "  const cancel = document.createElement('button');\n",
              "  inputElement.parentElement.appendChild(cancel);\n",
              "  cancel.textContent = 'Cancel upload';\n",
              "  const cancelPromise = new Promise((resolve) => {\n",
              "    cancel.onclick = () => {\n",
              "      resolve(null);\n",
              "    };\n",
              "  });\n",
              "\n",
              "  // Wait for the user to pick the files.\n",
              "  const files = yield {\n",
              "    promise: Promise.race([pickedPromise, cancelPromise]),\n",
              "    response: {\n",
              "      action: 'starting',\n",
              "    }\n",
              "  };\n",
              "\n",
              "  cancel.remove();\n",
              "\n",
              "  // Disable the input element since further picks are not allowed.\n",
              "  inputElement.disabled = true;\n",
              "\n",
              "  if (!files) {\n",
              "    return {\n",
              "      response: {\n",
              "        action: 'complete',\n",
              "      }\n",
              "    };\n",
              "  }\n",
              "\n",
              "  for (const file of files) {\n",
              "    const li = document.createElement('li');\n",
              "    li.append(span(file.name, {fontWeight: 'bold'}));\n",
              "    li.append(span(\n",
              "        `(${file.type || 'n/a'}) - ${file.size} bytes, ` +\n",
              "        `last modified: ${\n",
              "            file.lastModifiedDate ? file.lastModifiedDate.toLocaleDateString() :\n",
              "                                    'n/a'} - `));\n",
              "    const percent = span('0% done');\n",
              "    li.appendChild(percent);\n",
              "\n",
              "    outputElement.appendChild(li);\n",
              "\n",
              "    const fileDataPromise = new Promise((resolve) => {\n",
              "      const reader = new FileReader();\n",
              "      reader.onload = (e) => {\n",
              "        resolve(e.target.result);\n",
              "      };\n",
              "      reader.readAsArrayBuffer(file);\n",
              "    });\n",
              "    // Wait for the data to be ready.\n",
              "    let fileData = yield {\n",
              "      promise: fileDataPromise,\n",
              "      response: {\n",
              "        action: 'continue',\n",
              "      }\n",
              "    };\n",
              "\n",
              "    // Use a chunked sending to avoid message size limits. See b/62115660.\n",
              "    let position = 0;\n",
              "    do {\n",
              "      const length = Math.min(fileData.byteLength - position, MAX_PAYLOAD_SIZE);\n",
              "      const chunk = new Uint8Array(fileData, position, length);\n",
              "      position += length;\n",
              "\n",
              "      const base64 = btoa(String.fromCharCode.apply(null, chunk));\n",
              "      yield {\n",
              "        response: {\n",
              "          action: 'append',\n",
              "          file: file.name,\n",
              "          data: base64,\n",
              "        },\n",
              "      };\n",
              "\n",
              "      let percentDone = fileData.byteLength === 0 ?\n",
              "          100 :\n",
              "          Math.round((position / fileData.byteLength) * 100);\n",
              "      percent.textContent = `${percentDone}% done`;\n",
              "\n",
              "    } while (position < fileData.byteLength);\n",
              "  }\n",
              "\n",
              "  // All done.\n",
              "  yield {\n",
              "    response: {\n",
              "      action: 'complete',\n",
              "    }\n",
              "  };\n",
              "}\n",
              "\n",
              "scope.google = scope.google || {};\n",
              "scope.google.colab = scope.google.colab || {};\n",
              "scope.google.colab._files = {\n",
              "  _uploadFiles,\n",
              "  _uploadFilesContinue,\n",
              "};\n",
              "})(self);\n",
              "</script> "
            ]
          },
          "metadata": {}
        },
        {
          "output_type": "stream",
          "name": "stdout",
          "text": [
            "Saving 11e44e34-1d37-4086-8f9e-f680d06a0e9c.csv to 11e44e34-1d37-4086-8f9e-f680d06a0e9c.csv\n"
          ]
        }
      ]
    },
    {
      "cell_type": "code",
      "source": [
        "# Load the dataset\n",
        "data = pd.read_csv('11e44e34-1d37-4086-8f9e-f680d06a0e9c.csv')\n",
        "X = data.drop(columns=['label'])\n",
        "Y = data['label'].values\n",
        "\n",
        "# Split the dataset into training and test sets\n",
        "X_train, X_test, Y_train, Y_test = train_test_split(X, Y, test_size=0.2, random_state=42)\n",
        "x_train = X_train.to_numpy()\n",
        "y_train = Y_train\n",
        "x_test = X_test.to_numpy()\n",
        "y_test = Y_test\n",
        "\n",
        "# Scale the features\n",
        "scaler = StandardScaler()\n",
        "x_train = scaler.fit_transform(x_train)\n",
        "x_test = scaler.transform(x_test)\n",
        "\n",
        "# Initialize theta randomly.\n",
        "theta = np.zeros(x_train.shape[1])\n",
        "\n",
        "# cost function\n",
        "def cost(theta, x, y):\n",
        "    n = len(y)\n",
        "    y_hat = logistic_regression(theta, x)\n",
        "    cost = (-1/n) * (np.dot(y, np.log(y_hat)) + np.dot((1-y), np.log(1 - y_hat)))\n",
        "    return cost\n",
        "\n",
        "# Gradient function\n",
        "def gradient(theta):\n",
        "    n = len(y_train)\n",
        "    gradient = np.zeros(x_train.shape[1])\n",
        "    for i in range(n):\n",
        "        xi = x_train[i]\n",
        "        yi = y_train[i]\n",
        "        y_hat_i = logistic_regression(theta, xi)\n",
        "        gradient += (y_hat_i - yi) * xi\n",
        "    gradient /= n\n",
        "    return gradient\n",
        "\n",
        "# Gradient descent\n",
        "def gradient_descent(theta, learning_rate, iterations):\n",
        "    cost_history = []\n",
        "    for i in range(iterations):\n",
        "        grad = gradient(theta)\n",
        "        theta -= learning_rate * grad\n",
        "\n",
        "        value = cost(theta, x_train, y_train)\n",
        "        cost_history.append(value)\n",
        "        if i % 10 == 0:\n",
        "            print(f\"Iteration {i}, Cost: {value:.4f}\")\n",
        "    return theta, cost_history\n",
        "\n",
        "# computing accuracy\n",
        "def compute_accuracy(y_true, y_pred):\n",
        "    return np.mean(y_true == y_pred)\n",
        "\n",
        "optimal_theta, cost_history = gradient_descent(theta, learning_rate=0.1, iterations=200)\n",
        "\n",
        "# Predict on test data\n",
        "y_pred_test = predict(optimal_theta, x_test)\n",
        "\n",
        "accuracy = compute_accuracy(y_test, y_pred_test)\n",
        "print()\n",
        "print(f\"Accuracy on test data: {accuracy * 100:.2f}%\")"
      ],
      "metadata": {
        "colab": {
          "base_uri": "https://localhost:8080/"
        },
        "id": "Zmu3ONQZhgp6",
        "outputId": "3c2c6402-4d1a-493a-90df-eb65d55a36a0"
      },
      "execution_count": null,
      "outputs": [
        {
          "output_type": "stream",
          "name": "stdout",
          "text": [
            "Iteration 0, Cost: 0.6382\n",
            "Iteration 10, Cost: 0.4521\n",
            "Iteration 20, Cost: 0.3782\n",
            "Iteration 30, Cost: 0.3307\n",
            "Iteration 40, Cost: 0.2970\n",
            "Iteration 50, Cost: 0.2717\n",
            "Iteration 60, Cost: 0.2520\n",
            "Iteration 70, Cost: 0.2361\n",
            "Iteration 80, Cost: 0.2230\n",
            "Iteration 90, Cost: 0.2121\n",
            "Iteration 100, Cost: 0.2029\n",
            "Iteration 110, Cost: 0.1949\n",
            "Iteration 120, Cost: 0.1880\n",
            "Iteration 130, Cost: 0.1819\n",
            "Iteration 140, Cost: 0.1766\n",
            "Iteration 150, Cost: 0.1719\n",
            "Iteration 160, Cost: 0.1676\n",
            "Iteration 170, Cost: 0.1638\n",
            "Iteration 180, Cost: 0.1603\n",
            "Iteration 190, Cost: 0.1572\n",
            "\n",
            "Accuracy on test data: 97.48%\n"
          ]
        }
      ]
    },
    {
      "cell_type": "markdown",
      "source": [
        "#**5. Plotting convergence results**"
      ],
      "metadata": {
        "id": "f0dhZOHWD2e6"
      }
    },
    {
      "cell_type": "code",
      "source": [
        "# Plot the convergence with data points marked\n",
        "plt.figure(figsize=(8, 6))\n",
        "\n",
        "# Line plot for cost convergence\n",
        "plt.plot(range(len(cost_history)), cost_history, color='b', label='Cost')\n",
        "\n",
        "# Scatter plot to mark the data points\n",
        "plt.scatter(range(len(cost_history)), cost_history, color='r', marker='o', s=5)\n",
        "\n",
        "plt.title(\"Convergence over Iterations\")\n",
        "plt.xlabel(\"Iteration\")\n",
        "plt.ylabel(\"Cost (Log-Loss)\")\n",
        "plt.grid(True)\n",
        "plt.legend()  # Add legend to distinguish line and points\n",
        "plt.show()\n"
      ],
      "metadata": {
        "colab": {
          "base_uri": "https://localhost:8080/",
          "height": 564
        },
        "id": "9KcGOTzEEDre",
        "outputId": "9d1853fc-63db-43af-f1b0-98cab760ffde"
      },
      "execution_count": null,
      "outputs": [
        {
          "output_type": "display_data",
          "data": {
            "text/plain": [
              "<Figure size 800x600 with 1 Axes>"
            ],
            "image/png": "[encoded data removed]"
          },
          "metadata": {}
        }
      ]
    }
  ]
}